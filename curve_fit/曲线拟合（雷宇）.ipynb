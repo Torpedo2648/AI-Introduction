{
 "cells": [
  {
   "cell_type": "code",
   "execution_count": 86,
   "metadata": {},
   "outputs": [
    {
     "name": "stdout",
     "output_type": "stream",
     "text": [
      "(1, 32) (1, 32)\n",
      "(1, 100) (1, 100)\n"
     ]
    },
    {
     "data": {
      "image/png": "[encoded data removed]",
      "text/plain": [
       "<Figure size 432x288 with 1 Axes>"
      ]
     },
     "metadata": {
      "needs_background": "light"
     },
     "output_type": "display_data"
    }
   ],
   "source": [
    "import numpy as np\n",
    "import matplotlib.pyplot as plt\n",
    "\n",
    "train_x = np.load('train_x.npy')\n",
    "train_y = np.load('train_y.npy')\n",
    "test_x = np.load('test_x.npy')\n",
    "test_y = np.load('test_y.npy')\n",
    "\n",
    "print(np.shape(train_x), np.shape(train_y))\n",
    "print(np.shape(test_x), np.shape(test_y))\n",
    "\n",
    "# print(train_x)\n",
    "# print(np.random.permutation(train_x.shape[1]))\n",
    "# a = 0.\n",
    "# print(type(a), a)\n",
    "\n",
    "plt.figure()\n",
    "plt.plot(train_x[0,:], train_y[0,:], 'b*', label = 'the train')\n",
    "plt.plot(test_x[0,:], test_y[0,:], 'r-', label = 'the test')\n",
    "plt.legend()\n",
    "plt.show()"
   ]
  },
  {
   "cell_type": "markdown",
   "metadata": {},
   "source": [
    "# STEP0: lay settings "
   ]
  },
  {
   "cell_type": "code",
   "execution_count": 87,
   "metadata": {},
   "outputs": [],
   "source": [
    "network = {}\n",
    "network['L'] = 4\n",
    "x_dim, y_dim = train_x.shape[0], train_y.shape[0]\n",
    "network['Ns'] = [x_dim, 64, 16, y_dim]"
   ]
  },
  {
   "cell_type": "markdown",
   "metadata": {},
   "source": [
    "# STEP1.1: activation function"
   ]
  },
  {
   "cell_type": "code",
   "execution_count": 88,
   "metadata": {},
   "outputs": [],
   "source": [
    "def linear(z):\n",
    "    return z;\n",
    "def dflinear(z):\n",
    "    return np.ones_like(z).astype(np.float)\n",
    "\n",
    "def sigmoid(z):\n",
    "    return 1 / (1 + np.exp(-z))\n",
    "def dfsigmoid(z):\n",
    "    return sigmoid(z) * (1 - sigmoid(z))\n",
    "\n",
    "def tanh(z):\n",
    "    return (np.exp(z)-np.exp(-z))/(np.exp(z)+np.exp(-z))\n",
    "def dftanh(z):\n",
    "    return 1 - tanh(z) * tanh(z)\n",
    "\n",
    "def relu(z):\n",
    "    return z * (z > 0)\n",
    "def dfrelu(z):\n",
    "    return (z > 0).astype(np.float)\n",
    "\n",
    "network['act_funcs'] = [None, tanh, tanh, linear]\n",
    "network['df_act_funcs'] = [None, dftanh, dftanh, dflinear]\n",
    "assert len(network['act_funcs']) == len(network[ 'df_act_funcs']), 'num'\n",
    "assert len( network['act_funcs']) == network['L'], 'please set act function for each layer'"
   ]
  },
  {
   "cell_type": "markdown",
   "metadata": {},
   "source": [
    "# STEP1.2: cost function"
   ]
  },
  {
   "cell_type": "code",
   "execution_count": 89,
   "metadata": {},
   "outputs": [],
   "source": [
    "def mse(a, y):\n",
    "    m = a.shape[1]\n",
    "    return (np.sum(np.square(y-a)))/m/2\n",
    "def dfmse(a, y):\n",
    "    m = a.shape[1]\n",
    "    return (a - y) / m\n",
    "\n",
    "network['cost_func'] = mse\n",
    "network['df_cost_func'] = dfmse"
   ]
  },
  {
   "cell_type": "markdown",
   "metadata": {},
   "source": [
    "# STEP1.3: weight initialization"
   ]
  },
  {
   "cell_type": "code",
   "execution_count": 90,
   "metadata": {},
   "outputs": [
    {
     "name": "stdout",
     "output_type": "stream",
     "text": [
      "shape of w_0 is (64, 1)\n",
      "shape of w_1 is (16, 64)\n",
      "shape of w_2 is (1, 16)\n"
     ]
    }
   ],
   "source": [
    "network['Ws'] = [np.random.rand(network['Ns'][l+1], network['Ns'][l]) for l in range(network['L']-1)]\n",
    "\n",
    "for l in range(network['L']-1):\n",
    "    bound = np.sqrt(6./(network['Ns'][l+1] + network['Ns'][l]))\n",
    "    network['Ws'][l] = np.random.uniform(-bound, bound, (network['Ns'][l+1], network['Ns'][l]))\n",
    "    print('shape of w_{} is {}'.format(l, network['Ws'][l].shape))\n",
    "\n",
    "network['Bs'] = [np.ones((network['Ns'][l+1], 1))*0.0 for l in range(network['L']-1)]"
   ]
  },
  {
   "cell_type": "markdown",
   "metadata": {},
   "source": [
    "# STEP2.1：forward computing"
   ]
  },
  {
   "cell_type": "code",
   "execution_count": 91,
   "metadata": {},
   "outputs": [],
   "source": [
    "def forward(x, network):\n",
    "    m = x.shape[1]  #batch size\n",
    "    z = [np.zeros((network['Ns'][l], m)) for l in range(network['L'])]\n",
    "    a = [np.zeros_like(z_l) for z_l in z]\n",
    "\n",
    "    a[0] = x;   #set input\n",
    "    for l in range(0, network['L']-1):\n",
    "        z[l+1] = np.dot(network['Ws'][l], a[l]) + network['Bs'][l]\n",
    "        a[l+1] = network['act_funcs'][l+1](z[l+1])\n",
    "        \n",
    "    return a, z"
   ]
  },
  {
   "cell_type": "markdown",
   "metadata": {},
   "source": [
    "# STEP2.2: backward propagation"
   ]
  },
  {
   "cell_type": "code",
   "execution_count": 92,
   "metadata": {},
   "outputs": [],
   "source": [
    "def backward(y, a, z, network):\n",
    "    delta = [np.zeros_like(z_l) for z_l in z]\n",
    "    grad_Ws = [np.zeros_like(w_l) for w_l in network['Ws']]\n",
    "    grad_Bs = [np.zeros_like(b_l) for b_l in network['Bs']]\n",
    "\n",
    "    # set delta of last layer\n",
    "    delta[-1] = network['df_cost_func'](a[-1], y) * network['df_act_funcs'][-1](z[-1])\n",
    "\n",
    "    for l in range(network['L']-2, 0, -1):\n",
    "        delta[l] = np.dot(network['Ws'][l].transpose(), delta[l+1]) * network['df_act_funcs'][l](z[l])\n",
    "    \n",
    "    for l in range(0, network['L']-1):\n",
    "        grad_Ws[l] = np.dot(delta[l+1], a[l].transpose())\n",
    "        grad_Bs[l] = delta[l+1].sum(axis = 1, keepdims = True)\n",
    "    return grad_Ws, grad_Bs"
   ]
  },
  {
   "cell_type": "markdown",
   "metadata": {},
   "source": [
    "gradient descent algorithm"
   ]
  },
  {
   "cell_type": "code",
   "execution_count": 93,
   "metadata": {},
   "outputs": [],
   "source": [
    "def grad_decent(network, train_x, train_y, test_x, test_y, alpha=1, max_epochs=5000, batch_size=32, display_period=100):\n",
    "    train_costs = []\n",
    "    test_costs = []\n",
    "    for k in range(max_epochs):\n",
    "        sample_idxs = np.random.permutation(train_x.shape[1])   #样本编号（0~31）\n",
    "        num_batch = int(np.ceil(train_x.shape[1]/batch_size))   #子集的个数\n",
    "        train_cost = 0. #意味着train_cost是浮点数0.0\n",
    "        for batch_idx in range(num_batch):\n",
    "            x = train_x[:, sample_idxs[batch_size*batch_idx:min(batch_size*(batch_idx+1), train_x.shape[1])]] #切片，每次取一个batch\n",
    "            y = train_y[:, sample_idxs[batch_size*batch_idx:min(batch_size*(batch_idx+1), train_x.shape[1])]]\n",
    "            # forward computing\n",
    "            a, z = forward(x, network)\n",
    "            # backward computing\n",
    "            train_cost = train_cost + network['cost_func'](a[-1], y) * x.shape[1]\n",
    "            grad_Ws, grad_Bs = backward(y, a, z, network)\n",
    "            for l in range(network['L']-1): \n",
    "                if max_epochs/5 < k < max_epochs/2:\n",
    "                    alpha = 0.1\n",
    "                elif k >= max_epochs/2:\n",
    "                    alpha = 0.05 \n",
    "                network['Ws'][l] = network['Ws'][l] - alpha * grad_Ws[l]\n",
    "                network['Bs'][l] = network['Bs'][l] - alpha * grad_Bs[l]\n",
    "        train_cost = train_cost / train_x.shape[1]\n",
    "        if k % display_period == 0:\n",
    "            train_costs.append(train_cost)\n",
    "            sample_idxs = np.random.permutation(test_x.shape[1])\n",
    "            num_batch = int(np.ceil(test_x.shape[1]/batch_size))\n",
    "            test_cost = 0.\n",
    "            for batch_idx in range(num_batch):\n",
    "                test_x[:, sample_idxs[batch_size * batch_idx:min(batch_size * (batch_idx+1), test_x.shape[1])]]\n",
    "                test_y[:, sample_idxs[batch_size * batch_idx:min(batch_size * (batch_idx+1), test_y.shape[1])]] \n",
    "                # forward computing\n",
    "                a, z = forward(x, network)\n",
    "                test_cost = test_cost + network['cost_func'](a[-1], y)*x.shape[1]\n",
    "            test_cost = test_cost / test_x.shape[1]\n",
    "            test_costs.append(test_cost)\n",
    "            print(\"epoch={:6d} train_cost={:.6f}, test_cost={:.6f}\".format(k, train_cost, test_cost))\n",
    "    np.save('network.npy', network)\n",
    "    return train_costs, test_costs\n"
   ]
  },
  {
   "cell_type": "markdown",
   "metadata": {},
   "source": [
    "# STEP4：gradient descent algorithm"
   ]
  },
  {
   "cell_type": "code",
   "execution_count": 94,
   "metadata": {},
   "outputs": [
    {
     "name": "stderr",
     "output_type": "stream",
     "text": [
      "C:\\Users\\Administrator\\AppData\\Local\\Temp\\ipykernel_21492\\1078634804.py:4: DeprecationWarning: `np.float` is a deprecated alias for the builtin `float`. To silence this warning, use `float` by itself. Doing this will not modify any behavior and is safe. If you specifically wanted the numpy scalar type, use `np.float64` here.\n",
      "Deprecated in NumPy 1.20; for more details and guidance: https://numpy.org/devdocs/release/1.20.0-notes.html#deprecations\n",
      "  return np.ones_like(z).astype(np.float)\n"
     ]
    },
    {
     "name": "stdout",
     "output_type": "stream",
     "text": [
      "epoch=     0 train_cost=0.644822, test_cost=0.571516\n",
      "epoch= 20000 train_cost=0.000797, test_cost=0.001020\n",
      "epoch= 40000 train_cost=0.000456, test_cost=0.000584\n",
      "epoch= 60000 train_cost=0.000377, test_cost=0.000482\n",
      "epoch= 80000 train_cost=0.000366, test_cost=0.000468\n",
      "epoch=100000 train_cost=0.000357, test_cost=0.000457\n",
      "epoch=120000 train_cost=0.000353, test_cost=0.000452\n",
      "epoch=140000 train_cost=0.000349, test_cost=0.000447\n",
      "epoch=160000 train_cost=0.000346, test_cost=0.000443\n",
      "epoch=180000 train_cost=0.000342, test_cost=0.000438\n"
     ]
    },
    {
     "data": {
      "image/png": "[encoded data removed]",
      "text/plain": [
       "<Figure size 432x288 with 1 Axes>"
      ]
     },
     "metadata": {
      "needs_background": "light"
     },
     "output_type": "display_data"
    }
   ],
   "source": [
    "max_epochs = 200000\n",
    "display_period = max_epochs / 10\n",
    "batch_size = 32\n",
    "alpha = 0.2\n",
    "train_costs, test_costs = grad_decent(network, train_x, train_y, test_x, test_y, alpha, max_epochs, batch_size, display_period)\n",
    "plt.figure()\n",
    "plt.plot(range(len(train_costs)), train_costs, 'r-*', label='train costs') \n",
    "plt.plot(range(len(test_costs)), test_costs, '^--', label='test costs')\n",
    "plt.legend()\n",
    "plt.grid()\n",
    "plt.show()\n"
   ]
  },
  {
   "cell_type": "markdown",
   "metadata": {},
   "source": [
    "# STEP5：test performance"
   ]
  },
  {
   "cell_type": "code",
   "execution_count": 95,
   "metadata": {},
   "outputs": [
    {
     "data": {
      "image/png": "[encoded data removed]",
      "text/plain": [
       "<Figure size 432x288 with 1 Axes>"
      ]
     },
     "metadata": {
      "needs_background": "light"
     },
     "output_type": "display_data"
    }
   ],
   "source": [
    "a, z = forward(test_x, network)\n",
    "test_pred = a[-1]\n",
    "plt.plot(test_x[0,:], test_pred[0,:], 'r-', label='pred curve')\n",
    "plt.plot(test_x[0,:], test_y[0,:], 'b-', label='true curve')\n",
    "a, z = forward(train_x, network)\n",
    "train_pred = a[-1]\n",
    "plt.plot(train_x[0,:], train_pred[0,:], 'r*', label='pred value of train sample')\n",
    "plt.plot(train_x[0,:], train_y[0,:], 'b*', label='true value of train sample')\n",
    "plt.legend()\n",
    "plt.show()"
   ]
  }
 ],
 "metadata": {
  "interpreter": {
   "hash": "3196968d684371006099b3d55edeef8ed90365227a30deaef86e5d4aa8519be0"
  },
  "kernelspec": {
   "display_name": "Python 3.10.2 64-bit",
   "language": "python",
   "name": "python3"
  },
  "language_info": {
   "codemirror_mode": {
    "name": "ipython",
    "version": 3
   },
   "file_extension": ".py",
   "mimetype": "text/x-python",
   "name": "python",
   "nbconvert_exporter": "python",
   "pygments_lexer": "ipython3",
   "version": "3.10.6"
  },
  "orig_nbformat": 4
 },
 "nbformat": 4,
 "nbformat_minor": 2
}
