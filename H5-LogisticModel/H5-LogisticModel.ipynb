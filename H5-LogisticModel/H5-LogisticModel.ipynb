{
 "cells": [
  {
   "cell_type": "markdown",
   "metadata": {},
   "source": [
    "# Implement SGD for binary classification by using logistic model\n",
    "- Your Name: 雷宇\n",
    "- Your ID: 2021141460073"
   ]
  },
  {
   "cell_type": "markdown",
   "metadata": {},
   "source": [
    "# import necessary modules\n",
    "\n",
    "* numpy for matrix calculation, `pip install numpy`\n",
    "* matplotlib for plot figures, `pip install matplotlib`"
   ]
  },
  {
   "cell_type": "code",
   "execution_count": 12,
   "metadata": {},
   "outputs": [],
   "source": [
    "import numpy as np\n",
    "from matplotlib import pyplot as plt"
   ]
  },
  {
   "cell_type": "markdown",
   "metadata": {},
   "source": [
    "# prepare dataset D\n",
    "\n",
    "\n",
    "1. load data `x` and `y` from the file `x.npy` and `y.npy`, respectively\n",
    "2. adding bias term `1` to `x`\n"
   ]
  },
  {
   "cell_type": "code",
   "execution_count": 13,
   "metadata": {},
   "outputs": [
    {
     "name": "stdout",
     "output_type": "stream",
     "text": [
      "original shape of x:(30, 569)\n",
      "new shape of x:(31, 569)\n",
      "new shape of y:(1, 569)\n"
     ]
    }
   ],
   "source": [
    "x = np.load(\"H5-x.npy\")\n",
    "print(\"original shape of x:{}\".format(x.shape))\n",
    "x = np.concatenate([x, np.ones((1,x.shape[1]))])\n",
    "print(\"new shape of x:{}\".format(x.shape))\n",
    "y = np.load(\"H5-y.npy\")\n",
    "print(\"new shape of y:{}\".format(y.shape))"
   ]
  },
  {
   "cell_type": "markdown",
   "metadata": {},
   "source": [
    "# implement the function below for logistic model\n",
    "\n",
    "$a = \\sigma (wx)$, where\n",
    "\n",
    "- $x \\in R^{31\\times n}$\n",
    "- $w \\in R^{1\\times 31}$\n",
    "- $\\sigma (z) = \\frac{1}{1+e^{-z}}$"
   ]
  },
  {
   "cell_type": "code",
   "execution_count": 14,
   "metadata": {},
   "outputs": [],
   "source": [
    "def sigmoid(z):\n",
    "    #### Your code here ####\n",
    "    a = z\n",
    "    a = 1/(1 + np.exp(-a))\n",
    "    ########################\n",
    "    return a\n",
    "def logisticModel(w, x):\n",
    "    #### Your code here ####\n",
    "    a = np.random.rand(1, 31)\n",
    "    a = w @ x\n",
    "    a = sigmoid(a)\n",
    "    ########################\n",
    "    return a"
   ]
  },
  {
   "cell_type": "markdown",
   "metadata": {},
   "source": [
    "# define cost function and accuracy\n",
    "\n",
    "\n",
    "$J= \\frac{1}{m}\\sum_{i=1}^{m}{\\left[y^{i}\\cdot \\log(a^{i})+(1-y^{i})\\cdot \\log(1-a^{i})\\right]}$\n",
    "\n",
    "$\\frac{\\partial J}{\\partial w} = \\frac{1}{m}(a-y)x^{T}$\n"
   ]
  },
  {
   "cell_type": "code",
   "execution_count": 15,
   "metadata": {},
   "outputs": [],
   "source": [
    "def cost(a, y):\n",
    "    #### Your code here ####\n",
    "    J = 0.0\n",
    "    J = np.mean(y*np.log(a)+(1-y)*np.log(1-a))\n",
    "    ########################\n",
    "    return J\n",
    "\n",
    "def grad(a, x, y):\n",
    "    #### Your code here ####\n",
    "    grad_w = np.zeros((a.shape[0], x.shape[0]))\n",
    "    grad_w = (a - y) @ x.T\n",
    "    ########################\n",
    "    return grad_w\n",
    "    \n",
    "def accuarcy(a, y, tao=0.5):\n",
    "    #### Your code here ####\n",
    "    acc = 0.0\n",
    "    r = 0.0\n",
    "    for ai, yi in zip(a[0], y[0]):\n",
    "        if ai >= tao and yi == 1: \n",
    "            r += 1\n",
    "        if ai < tao and yi == 0: \n",
    "            r += 1\n",
    "    acc = r/569\n",
    "    ########################\n",
    "    return acc\n",
    "\n"
   ]
  },
  {
   "cell_type": "markdown",
   "metadata": {},
   "source": [
    "# gradient descent algorithm"
   ]
  },
  {
   "cell_type": "code",
   "execution_count": 16,
   "metadata": {},
   "outputs": [
    {
     "name": "stderr",
     "output_type": "stream",
     "text": [
      "C:\\Users\\Administrator\\AppData\\Local\\Temp\\ipykernel_11004\\2886310945.py:4: RuntimeWarning: divide by zero encountered in log\n",
      "  J = np.mean(y*np.log(a)+(1-y)*np.log(1-a))\n",
      "C:\\Users\\Administrator\\AppData\\Local\\Temp\\ipykernel_11004\\2886310945.py:4: RuntimeWarning: invalid value encountered in multiply\n",
      "  J = np.mean(y*np.log(a)+(1-y)*np.log(1-a))\n",
      "C:\\Users\\Administrator\\AppData\\Local\\Temp\\ipykernel_11004\\1991608307.py:4: RuntimeWarning: overflow encountered in exp\n",
      "  a = 1/(1 + np.exp(-a))\n"
     ]
    },
    {
     "name": "stdout",
     "output_type": "stream",
     "text": [
      "----------------------------------------\n",
      "gradient descent method: w=[[ 2.17651175e+04  7.62111739e+03  1.15592211e+05  2.53244326e+04\n",
      "   1.31566347e+02 -4.07270677e+02 -8.53698763e+02 -3.35508223e+02\n",
      "   2.49701311e+02  1.25472579e+02 -1.42267680e+01  5.38612804e+02\n",
      "  -2.86865588e+03 -6.73818299e+04 -1.06183484e+00 -1.22462343e+02\n",
      "  -1.81446382e+02 -3.63910467e+01  3.55952183e-01 -5.89751954e+00\n",
      "   2.35228037e+04  4.40888590e+03  1.07527596e+05 -4.49060459e+04\n",
      "   1.08964611e+02 -1.52085572e+03 -2.25257340e+03 -5.45500154e+02\n",
      "   1.53647480e+02  2.80708176e+01  2.88379755e+03]]\n",
      "----------------------------------------\n"
     ]
    },
    {
     "data": {
      "image/png": "[encoded data removed]",
      "text/plain": [
       "<Figure size 432x288 with 1 Axes>"
      ]
     },
     "metadata": {
      "needs_background": "light"
     },
     "output_type": "display_data"
    }
   ],
   "source": [
    "w = np.random.rand(1,31)\n",
    "\n",
    "alpha = 0.1\n",
    "Js = []\n",
    "accs = []\n",
    "\n",
    "# please test different K \n",
    "K = 3000\n",
    "\n",
    "for i in range(K):\n",
    "    a = logisticModel(w, x)\n",
    "    grad_w = grad(a, x, y)\n",
    "    w = w - alpha * grad_w\n",
    "    Js.append(cost(a, y))\n",
    "    accs.append(accuarcy(a, y))\n",
    "\n",
    "plt.plot(Js,'r-*',label=\"cost\")\n",
    "plt.plot(accs,'b-',label=\"accuracy\")\n",
    "plt.legend()\n",
    "plt.savefig(\"cost.jpg\")\n",
    "print(\"-\"*40)\n",
    "print(\"gradient descent method: w={}\".format(w))\n",
    "print(\"-\"*40)   "
   ]
  },
  {
   "cell_type": "code",
   "execution_count": 17,
   "metadata": {},
   "outputs": [
    {
     "name": "stderr",
     "output_type": "stream",
     "text": [
      "C:\\Users\\Administrator\\AppData\\Local\\Temp\\ipykernel_11004\\1991608307.py:4: RuntimeWarning: overflow encountered in exp\n",
      "  a = 1/(1 + np.exp(-a))\n"
     ]
    },
    {
     "data": {
      "text/plain": [
       "0.9209138840070299"
      ]
     },
     "execution_count": 17,
     "metadata": {},
     "output_type": "execute_result"
    }
   ],
   "source": [
    "accuarcy(logisticModel(w, x),y)"
   ]
  }
 ],
 "metadata": {
  "kernelspec": {
   "display_name": "Python 3.9.2 64-bit",
   "metadata": {
    "interpreter": {
     "hash": "14da386a6e18213291816d02815fd85819b117a8cdf1629134f14b53ba124c27"
    }
   },
   "name": "python3"
  },
  "language_info": {
   "codemirror_mode": {
    "name": "ipython",
    "version": 3
   },
   "file_extension": ".py",
   "mimetype": "text/x-python",
   "name": "python",
   "nbconvert_exporter": "python",
   "pygments_lexer": "ipython3",
   "version": "3.10.2"
  }
 },
 "nbformat": 4,
 "nbformat_minor": 4
}
